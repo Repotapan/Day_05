{
 "cells": [
  {
   "cell_type": "code",
   "execution_count": 1,
   "id": "7596ce3a-8b31-420c-a4d0-829d2fd315fe",
   "metadata": {},
   "outputs": [
    {
     "name": "stdout",
     "output_type": "stream",
     "text": [
      "1\n",
      "2\n",
      "3\n",
      "4\n",
      "5\n",
      "6\n",
      "7\n",
      "8\n",
      "9\n",
      "10\n"
     ]
    }
   ],
   "source": [
    "a = 1\n",
    "while a<=10:\n",
    "    print(a)\n",
    "    a= a+1"
   ]
  },
  {
   "cell_type": "code",
   "execution_count": 2,
   "id": "da3249b9-af5d-4ccc-ba64-014c7700ffe7",
   "metadata": {},
   "outputs": [
    {
     "name": "stdin",
     "output_type": "stream",
     "text": [
      "Enter your limit 6\n"
     ]
    },
    {
     "data": {
      "text/plain": [
       "21"
      ]
     },
     "execution_count": 2,
     "metadata": {},
     "output_type": "execute_result"
    }
   ],
   "source": [
    "n=int(input(\"Enter your limit\"))\n",
    "starting_point=0\n",
    "counter=1\n",
    "while counter <= n:\n",
    "    starting_point= starting_point+counter\n",
    "    counter = counter + 1\n",
    "starting_point"
   ]
  },
  {
   "cell_type": "code",
   "execution_count": 5,
   "id": "6965b21d-89c3-4257-a146-c23106664891",
   "metadata": {},
   "outputs": [
    {
     "name": "stdin",
     "output_type": "stream",
     "text": [
      "Enter your number 5\n"
     ]
    },
    {
     "data": {
      "text/plain": [
       "120"
      ]
     },
     "execution_count": 5,
     "metadata": {},
     "output_type": "execute_result"
    }
   ],
   "source": [
    "num = int(input(\"Enter your number\"))\n",
    "factorial=1\n",
    "while num > 0:\n",
    "    factorial=factorial*num\n",
    "    num=num-1\n",
    "factorial"
   ]
  },
  {
   "cell_type": "markdown",
   "id": "3af83184-4f1a-4b31-b4ab-65d2ac049335",
   "metadata": {},
   "source": [
    "#sum of between some points\n"
   ]
  },
  {
   "cell_type": "code",
   "execution_count": 6,
   "id": "9a34b2a1-4f96-41ec-b806-1954299a3490",
   "metadata": {},
   "outputs": [
    {
     "name": "stdin",
     "output_type": "stream",
     "text": [
      "Enter your limit 3\n"
     ]
    },
    {
     "data": {
      "text/plain": [
       "6"
      ]
     },
     "execution_count": 6,
     "metadata": {},
     "output_type": "execute_result"
    }
   ],
   "source": [
    "number = int(input(\"Enter your limit\"))\n",
    "start=0\n",
    "counter=1\n",
    "while counter <= number:\n",
    "    start= start+counter\n",
    "    counter = counter +1\n",
    "start"
   ]
  },
  {
   "cell_type": "markdown",
   "id": "595d234f-5007-45ae-bf95-48030ae2e888",
   "metadata": {},
   "source": [
    "#factorial of a number"
   ]
  },
  {
   "cell_type": "code",
   "execution_count": 7,
   "id": "d5f6c535-fde5-4fba-b09e-909ed9a4f520",
   "metadata": {},
   "outputs": [
    {
     "name": "stdin",
     "output_type": "stream",
     "text": [
      "Enter your number 3\n"
     ]
    },
    {
     "data": {
      "text/plain": [
       "6"
      ]
     },
     "execution_count": 7,
     "metadata": {},
     "output_type": "execute_result"
    }
   ],
   "source": [
    "num1=int(input(\"Enter your number\"))\n",
    "factorial=1\n",
    "while num1>0:\n",
    "    factorial=factorial*num1\n",
    "    num1=num1-1\n",
    "factorial"
   ]
  },
  {
   "cell_type": "markdown",
   "id": "0270e72f-b9fa-4258-9268-9a680e241387",
   "metadata": {},
   "source": [
    "#fibonanci series"
   ]
  },
  {
   "cell_type": "code",
   "execution_count": null,
   "id": "5345c32a-af1b-4f26-b0ed-9d0f3c15a98f",
   "metadata": {},
   "outputs": [],
   "source": []
  },
  {
   "cell_type": "code",
   "execution_count": null,
   "id": "dd53ae2a-2de6-4376-9f5d-9ebb509d80e0",
   "metadata": {},
   "outputs": [],
   "source": []
  },
  {
   "cell_type": "code",
   "execution_count": 8,
   "id": "b0c34eed-b46e-4242-89d1-9aaedcfc36b7",
   "metadata": {},
   "outputs": [
    {
     "name": "stdin",
     "output_type": "stream",
     "text": [
      "Enter the number of element you are looking for 10\n"
     ]
    },
    {
     "name": "stdout",
     "output_type": "stream",
     "text": [
      "0\n",
      "1\n",
      "1\n",
      "2\n",
      "3\n",
      "5\n",
      "8\n",
      "13\n",
      "21\n",
      "34\n",
      "55\n"
     ]
    }
   ],
   "source": [
    "num3=int(input(\"Enter the number of element you are looking for\"))\n",
    "a,b=0,1\n",
    "counter=0\n",
    "while counter<=num3:\n",
    "    print(a)\n",
    "    c=a+b\n",
    "    a=b\n",
    "    b=c\n",
    "    counter=counter+1"
   ]
  },
  {
   "cell_type": "code",
   "execution_count": null,
   "id": "9cae2999-7f8f-40e5-b5cc-59c4a1b05041",
   "metadata": {},
   "outputs": [],
   "source": []
  },
  {
   "cell_type": "code",
   "execution_count": 9,
   "id": "ffa35294-8876-4c0f-880e-d88540cb64f1",
   "metadata": {},
   "outputs": [
    {
     "name": "stdout",
     "output_type": "stream",
     "text": [
      "0\n",
      "1\n",
      "1\n",
      "2\n",
      "3\n",
      "5\n",
      "8\n",
      "13\n",
      "21\n",
      "34\n"
     ]
    }
   ],
   "source": [
    "a =0\n",
    "b =1\n",
    "for i in range(10):\n",
    "    print(a)\n",
    "    c=a+b\n",
    "    a=b\n",
    "    b=c"
   ]
  },
  {
   "cell_type": "markdown",
   "id": "64158e68-ecf8-4fe7-bab8-c3ddd7d30ded",
   "metadata": {},
   "source": [
    "#Reverse of a string using while loop"
   ]
  },
  {
   "cell_type": "code",
   "execution_count": 13,
   "id": "0d872d87-b700-43e3-95aa-b739c29e23d0",
   "metadata": {},
   "outputs": [
    {
     "name": "stdin",
     "output_type": "stream",
     "text": [
      "Enter your string which want to reverse tapan\n"
     ]
    },
    {
     "name": "stdout",
     "output_type": "stream",
     "text": [
      "napat\n"
     ]
    }
   ],
   "source": [
    "str=input(\"Enter your string which want to reverse\")\n",
    "reverse=\"\"\n",
    "length=len(str)\n",
    "while length > 0:\n",
    "    reverse= reverse+str[length-1]\n",
    "    length=length-1\n",
    "print(reverse)\n"
   ]
  },
  {
   "cell_type": "markdown",
   "id": "332b303e-4037-4b8e-b104-5d8472e71e11",
   "metadata": {},
   "source": [
    "#print table of numbers"
   ]
  },
  {
   "cell_type": "code",
   "execution_count": 15,
   "id": "f2ea8116-7d3a-4a31-8091-2717dcae1d22",
   "metadata": {},
   "outputs": [
    {
     "name": "stdin",
     "output_type": "stream",
     "text": [
      "Enter your number 15\n"
     ]
    },
    {
     "name": "stdout",
     "output_type": "stream",
     "text": [
      "15 * 1 = 15\n",
      "15 * 2 = 30\n",
      "15 * 3 = 45\n",
      "15 * 4 = 60\n",
      "15 * 5 = 75\n",
      "15 * 6 = 90\n",
      "15 * 7 = 105\n",
      "15 * 8 = 120\n",
      "15 * 9 = 135\n",
      "15 * 10 = 150\n"
     ]
    }
   ],
   "source": [
    "n= int(input(\"Enter your number\"))\n",
    "i=1\n",
    "while i<=10:\n",
    "    result=n*i\n",
    "    print(n,\"*\",i,\"=\",result)\n",
    "    i=i+1"
   ]
  },
  {
   "cell_type": "code",
   "execution_count": 18,
   "id": "2dfc8c07-5649-491d-93c9-8403ae44bb7b",
   "metadata": {},
   "outputs": [
    {
     "name": "stdout",
     "output_type": "stream",
     "text": [
      "1\n",
      "2\n",
      "3\n",
      "4\n",
      "This will be executed once when your while will executed successfully\n"
     ]
    }
   ],
   "source": [
    "n=5\n",
    "i=1\n",
    "while i <n:\n",
    "    print(i)\n",
    "    i = i+1\n",
    "else:\n",
    "    print(\"This will be executed once when your while will executed successfully\")"
   ]
  },
  {
   "cell_type": "code",
   "execution_count": 19,
   "id": "a75afc74-d240-4437-a823-f7d4d19ea317",
   "metadata": {},
   "outputs": [
    {
     "name": "stdout",
     "output_type": "stream",
     "text": [
      "1\n",
      "2\n",
      "3\n"
     ]
    }
   ],
   "source": [
    "n=5\n",
    "i=1\n",
    "while i <n:\n",
    "    print(i)\n",
    "    if i == 3:\n",
    "        break\n",
    "    i = i+1\n",
    "else:\n",
    "    print(\"This will be executed once when your while will executed successfully\")"
   ]
  },
  {
   "cell_type": "code",
   "execution_count": null,
   "id": "a78345b7-5488-4d2f-9209-e4cf7fffeda6",
   "metadata": {},
   "outputs": [],
   "source": []
  },
  {
   "cell_type": "code",
   "execution_count": null,
   "id": "ca10084a-b5b7-4d92-9caf-7e0049f18cf7",
   "metadata": {},
   "outputs": [],
   "source": []
  }
 ],
 "metadata": {
  "kernelspec": {
   "display_name": "Python 3 (ipykernel)",
   "language": "python",
   "name": "python3"
  },
  "language_info": {
   "codemirror_mode": {
    "name": "ipython",
    "version": 3
   },
   "file_extension": ".py",
   "mimetype": "text/x-python",
   "name": "python",
   "nbconvert_exporter": "python",
   "pygments_lexer": "ipython3",
   "version": "3.10.8"
  }
 },
 "nbformat": 4,
 "nbformat_minor": 5
}
